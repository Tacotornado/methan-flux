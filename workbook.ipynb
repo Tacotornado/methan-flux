{
 "cells": [
  {
   "cell_type": "markdown",
   "id": "99b6dac5",
   "metadata": {},
   "source": [
    "## Workbook ##\n",
    "\n",
    "main production book for presentation"
   ]
  },
  {
   "cell_type": "code",
   "execution_count": 5,
   "id": "76e07bf9",
   "metadata": {},
   "outputs": [],
   "source": [
    "import pandas as pd\n",
    "import os\n",
    "import numpy as np\n",
    "import matplotlib.pyplot as plt\n",
    "import seaborn as sns\n",
    "\n",
    "from sklearn.linear_model import LinearRegression\n",
    "from datetime import datetime, timedelta"
   ]
  }
 ],
 "metadata": {
  "kernelspec": {
   "display_name": "Mflux",
   "language": "python",
   "name": "python3"
  },
  "language_info": {
   "codemirror_mode": {
    "name": "ipython",
    "version": 3
   },
   "file_extension": ".py",
   "mimetype": "text/x-python",
   "name": "python",
   "nbconvert_exporter": "python",
   "pygments_lexer": "ipython3",
   "version": "3.10.18"
  }
 },
 "nbformat": 4,
 "nbformat_minor": 5
}
