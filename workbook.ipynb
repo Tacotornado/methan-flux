{
 "cells": [
  {
   "cell_type": "code",
   "execution_count": null,
   "id": "76e07bf9",
   "metadata": {
    "vscode": {
     "languageId": "plaintext"
    }
   },
   "outputs": [],
   "source": [
    "import pandas as pd\n",
    "import duckdb\n",
    "import os\n",
    "from datetime import datetime, timedelta"
   ]
  }
 ],
 "metadata": {
  "language_info": {
   "name": "python"
  }
 },
 "nbformat": 4,
 "nbformat_minor": 5
}
