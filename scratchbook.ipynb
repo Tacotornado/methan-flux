{
 "cells": [
  {
   "cell_type": "markdown",
   "id": "b33220ce",
   "metadata": {},
   "source": [
    "## Scratchbook ##\n",
    "\n",
    "meant for testing and non production activities"
   ]
  },
  {
   "cell_type": "code",
   "execution_count": 2,
   "id": "f0a8c1ca",
   "metadata": {},
   "outputs": [],
   "source": [
    "import pandas as pd\n",
    "import glob\n",
    "import time\n",
    "import duckdb\n",
    "import os\n",
    "from datetime import datetime, timedelta"
   ]
  },
  {
   "cell_type": "code",
   "execution_count": 3,
   "id": "4c2c2c24",
   "metadata": {},
   "outputs": [],
   "source": [
    "dataset = \"dataset/JAAR_DB.duckdb\"\n",
    "con = duckdb.connect(database= dataset)"
   ]
  },
  {
   "cell_type": "code",
   "execution_count": 4,
   "id": "1b548fbe",
   "metadata": {},
   "outputs": [
    {
     "name": "stdout",
     "output_type": "stream",
     "text": [
      "\n",
      "=== JAAR_raw ===\n",
      "Columns: ['TIMESTAMP', 'ChamberID', 'ChamberStatus', 'ChamberTC', 'PPFD', 'note', 'CH4', 'CO2', 'H2O_LI7810', 'N2O', 'H2O_LI7820', 'PS01']\n",
      "Sample data:\n",
      "('2025-03-04 00:00:00', 5.0, 0.0, 21.59, 0.0, 'raw', 2034.394, 535.46301, 17906.551, 361.42618, 17856.406, 1007.3)\n",
      "('2025-03-04 00:00:01', 5.0, 0.0, 21.59, 0.0, 'raw', 2032.8506, 528.85876, 18091.588, 361.50317, 17936.115, 1007.3)\n",
      "('2025-03-04 00:00:02', 5.0, 0.0, 21.58, 0.0, 'raw', 2027.2987, 518.67578, 18395.146, 359.33124, 18169.088, 1007.3)\n",
      "('2025-03-04 00:00:03', 5.0, 0.0, 21.59, 0.0, 'raw', 2025.5663, 517.84766, 18508.52, 358.93921, 18267.242, 1007.3)\n",
      "('2025-03-04 00:00:04', 5.0, 0.0, 21.59, 0.0, 'raw', 2025.6571, 518.44781, 18611.219, 358.69244, 18352.871, 1007.3)\n"
     ]
    }
   ],
   "source": [
    "# Get all table names\n",
    "tables = con.execute(\"SHOW TABLES\").fetchall()\n",
    "\n",
    "# Preview first few rows of each table\n",
    "for table in tables:\n",
    "    table_name = table[0]\n",
    "    print(f\"\\n=== {table_name} ===\")\n",
    "    \n",
    "    # Show first 5 rows\n",
    "    preview = con.execute(f\"SELECT * FROM {table_name} LIMIT 5\").fetchall()\n",
    "    columns = [desc[0] for desc in con.description]\n",
    "    \n",
    "    print(f\"Columns: {columns}\")\n",
    "    print(\"Sample data:\")\n",
    "    for row in preview:\n",
    "        print(row)"
   ]
  },
  {
   "cell_type": "code",
   "execution_count": 5,
   "id": "a69e8d1d",
   "metadata": {},
   "outputs": [
    {
     "name": "stdout",
     "output_type": "stream",
     "text": [
      "              TIMESTAMP  ChamberID  ChamberStatus  ChamberTC        CH4\n",
      "0   2025-03-04 00:00:00        5.0            0.0      21.59  2034.3940\n",
      "1   2025-03-04 00:00:01        5.0            0.0      21.59  2032.8506\n",
      "2   2025-03-04 00:00:02        5.0            0.0      21.58  2027.2987\n",
      "3   2025-03-04 00:00:03        5.0            0.0      21.59  2025.5663\n",
      "4   2025-03-04 00:00:04        5.0            0.0      21.59  2025.6571\n",
      "5   2025-03-04 00:00:05        5.0            0.0      21.59  2025.9663\n",
      "6   2025-03-04 00:00:06        5.0            0.0      21.58  2026.1731\n",
      "7   2025-03-04 00:00:07        5.0            0.0      21.59  2026.0664\n",
      "8   2025-03-04 00:00:08        5.0            0.0      21.58  2026.1788\n",
      "9   2025-03-04 00:00:09        5.0            0.0      21.59  2026.1869\n",
      "10  2025-03-04 00:00:10        5.0            0.0      21.60  2026.1912\n",
      "11  2025-03-04 00:00:11        5.0            0.0      21.58  2025.4135\n",
      "12  2025-03-04 00:00:12        5.0            0.0      21.59  2025.0226\n",
      "13  2025-03-04 00:00:13        5.0            0.0      21.60  2024.8838\n",
      "14  2025-03-04 00:00:14        5.0            0.0      21.59  2024.9991\n",
      "15  2025-03-04 00:00:15        5.0            0.0      21.59  2025.0212\n",
      "16  2025-03-04 00:00:16        5.0            0.0      21.58  2025.1906\n",
      "17  2025-03-04 00:00:17        5.0            0.0      21.59  2025.1707\n",
      "18  2025-03-04 00:00:18        5.0            0.0      21.59  2025.3094\n",
      "19  2025-03-04 00:00:19        5.0            0.0      21.59  2025.4706\n",
      "20  2025-03-04 00:00:20        5.0            0.0      21.60  2025.3228\n",
      "21  2025-03-04 00:00:21        5.0            0.0      21.60  2025.3210\n",
      "22  2025-03-04 00:00:22        5.0            0.0      21.59  2025.3326\n",
      "23  2025-03-04 00:00:23        5.0            0.0      21.60  2025.3029\n",
      "24  2025-03-04 00:00:24        5.0            0.0      21.61  2025.5107\n",
      "25  2025-03-04 00:00:25        5.0            0.0      21.61  2025.5663\n",
      "26  2025-03-04 00:00:26        5.0            0.0      21.61  2025.6467\n",
      "27  2025-03-04 00:00:27        5.0            0.0      21.60  2025.7756\n",
      "28  2025-03-04 00:00:28        5.0            0.0      21.61  2025.7172\n",
      "29  2025-03-04 00:00:29        5.0            0.0      21.62  2025.9767\n",
      "30  2025-03-04 00:00:30        5.0            0.0      21.61  2025.9600\n",
      "31  2025-03-04 00:00:31        5.0            0.0      21.62  2026.1823\n",
      "32  2025-03-04 00:00:32        5.0            0.0      21.61  2026.2230\n",
      "33  2025-03-04 00:00:33        5.0            0.0      21.61  2026.1921\n",
      "34  2025-03-04 00:00:34        5.0            0.0      21.62  2026.3197\n",
      "35  2025-03-04 00:00:35        5.0            0.0      21.62  2026.5770\n",
      "36  2025-03-04 00:00:36        5.0            0.0      21.61  2026.5645\n",
      "37  2025-03-04 00:00:37        5.0            0.0      21.62  2027.1569\n",
      "38  2025-03-04 00:00:38        5.0            0.0      21.62  2030.9967\n",
      "39  2025-03-04 00:00:39        5.0            0.0      21.62  2035.2504\n",
      "40  2025-03-04 00:00:40        5.0            0.0      21.63  2035.9792\n",
      "41  2025-03-04 00:00:41        5.0            0.0      21.63  2035.6699\n",
      "42  2025-03-04 00:00:42        5.0            0.0      21.63  2034.9412\n",
      "43  2025-03-04 00:00:43        5.0            0.0      21.62  2033.2263\n",
      "44  2025-03-04 00:00:44        5.0            0.0      21.63  2031.5143\n",
      "45  2025-03-04 00:00:45        5.0            0.0      21.63  2030.4401\n",
      "46  2025-03-04 00:00:46        5.0            0.0      21.63  2029.1495\n",
      "47  2025-03-04 00:00:47        5.0            0.0      21.63  2028.8324\n",
      "48  2025-03-04 00:00:48        5.0            0.0      21.64  2030.1542\n",
      "49  2025-03-04 00:00:49        5.0            0.0      21.63  2031.7279\n"
     ]
    }
   ],
   "source": [
    "# Query into a pandas DataFrame for better display\n",
    "df = con.execute(\"\"\"\n",
    "    SELECT TIMESTAMP, ChamberID, ChamberStatus, ChamberTC, CH4 \n",
    "    FROM JAAR_raw \n",
    "    LIMIT 50\n",
    "\"\"\").df()\n",
    "\n",
    "print(df)"
   ]
  },
  {
   "cell_type": "code",
   "execution_count": 6,
   "id": "c4e90fb1",
   "metadata": {},
   "outputs": [
    {
     "name": "stdout",
     "output_type": "stream",
     "text": [
      "Chambers with non-zero status:\n",
      "Chamber ID: 1.0\n",
      "Chamber ID: 2.0\n",
      "Chamber ID: 3.0\n",
      "Chamber ID: 4.0\n",
      "Chamber ID: 5.0\n",
      "Chamber ID: 6.0\n",
      "Chamber ID: 7.0\n",
      "Chamber ID: 8.0\n",
      "Chamber ID: 9.0\n"
     ]
    }
   ],
   "source": [
    "# Observing the chambers available with non 0.0 status\n",
    "chambers = con.execute(\"\"\"\n",
    "    SELECT DISTINCT ChamberID \n",
    "    FROM JAAR_raw \n",
    "    WHERE ChamberStatus != 0.0\n",
    "    ORDER BY ChamberID\n",
    "\"\"\").fetchall()\n",
    "\n",
    "print(\"Chambers with non-zero status:\")\n",
    "for chamber in chambers:\n",
    "    print(f\"Chamber ID: {chamber[0]}\")"
   ]
  }
 ],
 "metadata": {
  "kernelspec": {
   "display_name": "Mflux",
   "language": "python",
   "name": "python3"
  },
  "language_info": {
   "codemirror_mode": {
    "name": "ipython",
    "version": 3
   },
   "file_extension": ".py",
   "mimetype": "text/x-python",
   "name": "python",
   "nbconvert_exporter": "python",
   "pygments_lexer": "ipython3",
   "version": "3.10.18"
  }
 },
 "nbformat": 4,
 "nbformat_minor": 5
}
